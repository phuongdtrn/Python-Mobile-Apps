{
 "cells": [
  {
   "cell_type": "markdown",
   "metadata": {},
   "source": [
    "# Overview of the Problem"
   ]
  },
  {
   "cell_type": "markdown",
   "metadata": {},
   "source": [
    "Our client is interested in entering the mobile application market and seeks to gain a greater understanding of the space. As data scientists, we intend to provide our client with sufficient data-driven insights to present them with the most lucrative approach for a new application launch.\n",
    "\n",
    "Due to the various facets of the market, it is important to consider what defines a successful application release. As such, our analysis focuses on the key features of applications within the marketplace with the goal of selecting the best feature set for the client’s potential application. This will help the client gain a strong foothold in the market and generate a dedicated audience."
   ]
  },
  {
   "cell_type": "markdown",
   "metadata": {},
   "source": [
    "# Exploratory Data Analysis"
   ]
  },
  {
   "cell_type": "code",
   "execution_count": 94,
   "metadata": {},
   "outputs": [],
   "source": [
    "import pandas as pd\n",
    "import numpy as np\n",
    "import seaborn as sns\n",
    "import matplotlib.pyplot as plt\n",
    "from scipy.stats import ttest_ind"
   ]
  },
  {
   "cell_type": "code",
   "execution_count": 72,
   "metadata": {},
   "outputs": [],
   "source": [
    "df = pd.read_csv(\"mobileApps.csv\", encoding = \"ISO-8859-1\", engine='python')"
   ]
  },
  {
   "cell_type": "markdown",
   "metadata": {},
   "source": [
    "## Data Cleaning"
   ]
  },
  {
   "cell_type": "code",
   "execution_count": 74,
   "metadata": {},
   "outputs": [],
   "source": [
    "#Convert Crawl Date to datetime format; Convert Release Date to Datetime format and change app age column\n",
    "df['crawl_date'] = pd.to_datetime(df['crawl_date'])\n",
    "df['release_date'] = pd.to_datetime(df['release_date'])\n",
    "df['app_age_current_version'] = (df['crawl_date']-df['release_date']).dt.days"
   ]
  },
  {
   "cell_type": "code",
   "execution_count": 75,
   "metadata": {},
   "outputs": [],
   "source": [
    "#Remove nulls from region column\n",
    "df = df[df['region'].notnull()]"
   ]
  },
  {
   "cell_type": "code",
   "execution_count": 76,
   "metadata": {},
   "outputs": [],
   "source": [
    "#Change the average rating from 50 to 5\n",
    "df.loc[df.average_rating > 10, 'average_rating'] = 5"
   ]
  },
  {
   "cell_type": "code",
   "execution_count": 77,
   "metadata": {},
   "outputs": [],
   "source": [
    "# Change the category of the apps\n",
    "df.loc[df.category =='Utilities > Notes åÊ', 'category'] = 'Utilities'\n",
    "df.loc[df.category =='Social Networking åÊ', 'category'] = 'Social'\n",
    "df.loc[df.category =='Games åÊ', 'category'] = 'Games'\n",
    "df.loc[df.category =='Music > Radio åÊ', 'category'] = 'Games'\n",
    "df.loc[df.category =='News & Magazines > Magazines åÊ', 'category'] = 'NEW'"
   ]
  },
  {
   "cell_type": "markdown",
   "metadata": {},
   "source": [
    "## Distinct App Identification"
   ]
  },
  {
   "cell_type": "markdown",
   "metadata": {},
   "source": [
    "There are no row duplicates in the dataset but a combination of device, app_store, region, release_date,\n",
    "developer, app_type, price, filesize (MB), num_screenshot and the average_rating allow us to\n",
    "identify a possible distinct app. We discovered that there are 7 rows per app in the data set for most of the\n",
    "apps. Thus, we assume that each app has similar weight in the data set while performing all our analyses."
   ]
  },
  {
   "cell_type": "code",
   "execution_count": 140,
   "metadata": {},
   "outputs": [
    {
     "name": "stdout",
     "output_type": "stream",
     "text": [
      "Empty DataFrame\n",
      "Columns: [device, t_day, crawl_date, rank, app_store, region, release_date, app_age_current_version, developer, app_type, price, filesize (MB), num_screenshot, rating_count, average_rating, category, in_app_ads, in_app_purchase, num_issues_reported, weighted]\n",
      "Index: []\n"
     ]
    }
   ],
   "source": [
    "print(df[df.duplicated()])"
   ]
  },
  {
   "cell_type": "code",
   "execution_count": 96,
   "metadata": {},
   "outputs": [],
   "source": [
    "df2 = df.groupby(['device','app_store','region','release_date','developer','app_type','price','filesize (MB)', \n",
    "'num_screenshot','average_rating'])"
   ]
  },
  {
   "cell_type": "markdown",
   "metadata": {},
   "source": [
    "## Data Exploration"
   ]
  },
  {
   "cell_type": "markdown",
   "metadata": {},
   "source": [
    "We first performed preliminary exploration of the data to gauge the distribution of various features"
   ]
  },
  {
   "cell_type": "code",
   "execution_count": null,
   "metadata": {},
   "outputs": [],
   "source": [
    "#Distribution of apps for each device type\n",
    "ax = df['device'].value_counts().plot(kind='bar',\n",
    "                                    figsize=(14,8),\n",
    "                                    title=\"Device Type vs Count\",\n",
    "                                    rot = 0)\n",
    "ax.set_xlabel(\"Device Type\")\n",
    "ax.set_ylabel(\"Count\")\n",
    "ax.yaxis.get_major_formatter().set_scientific(False)\n",
    "ax.yaxis.get_major_formatter().set_useOffset(False)\n",
    "plt.show()"
   ]
  },
  {
   "cell_type": "markdown",
   "metadata": {},
   "source": [
    "Above graph description: Total numbero of apps for smartphone devices outnumbered tablet devices"
   ]
  },
  {
   "cell_type": "code",
   "execution_count": null,
   "metadata": {},
   "outputs": [],
   "source": [
    "#Distribution of apps based on region\n",
    "ax = df['region'].value_counts().plot(kind='bar',\n",
    "                                    figsize=(14,8),\n",
    "                                    title=\"Distribution of Apps based on Region\",\n",
    "                                    rot=0)\n",
    "ax.set_xlabel(\"Region\")\n",
    "ax.set_ylabel(\"Count\")\n",
    "ax.yaxis.get_major_formatter().set_scientific(False)\n",
    "ax.yaxis.get_major_formatter().set_useOffset(False)\n",
    "plt.show()"
   ]
  },
  {
   "cell_type": "markdown",
   "metadata": {},
   "source": [
    "Above graph description: Total number of apps based in China outperformed apps based in the US"
   ]
  },
  {
   "cell_type": "code",
   "execution_count": null,
   "metadata": {},
   "outputs": [],
   "source": [
    "#Distribution of apps based on the type of App Store\n",
    "ax = df['app_store'].value_counts().plot(kind='bar',\n",
    "                                    figsize=(14,8),\n",
    "                                    title=\"Distribution of Apps on App Store\",\n",
    "                                    rot=0)\n",
    "ax.set_xlabel(\"App Store\")\n",
    "ax.set_ylabel(\"Count\")\n",
    "ax.yaxis.get_major_formatter().set_scientific(False)\n",
    "ax.yaxis.get_major_formatter().set_useOffset(False)\n",
    "plt.show()"
   ]
  },
  {
   "cell_type": "markdown",
   "metadata": {},
   "source": [
    "Above graph description: Total number of apps in Apple App Store outperformed counts of apps in Google Play, while Amazon App Store only had a small amount of apps"
   ]
  },
  {
   "cell_type": "markdown",
   "metadata": {},
   "source": [
    "Based on the above graph, the Amazon App Store counts for a very small number of Apps, hence we will we\n",
    "concentrating mostly on the Apple and Google Play"
   ]
  },
  {
   "cell_type": "code",
   "execution_count": 107,
   "metadata": {},
   "outputs": [],
   "source": [
    "df = df[df.app_store != 'Amazon']"
   ]
  },
  {
   "cell_type": "code",
   "execution_count": null,
   "metadata": {},
   "outputs": [],
   "source": [
    "#Distribution of apps based on app types\n",
    "ax = df['app_type'].value_counts().plot(kind='bar',\n",
    "                                    figsize=(14,8),\n",
    "                                    title=\"Distribution of Apps based on app type\",\n",
    "                                    rot=0)\n",
    "ax.set_xlabel(\"App Type\")\n",
    "ax.set_ylabel(\"Count\")\n",
    "ax.yaxis.get_major_formatter().set_scientific(False)\n",
    "ax.yaxis.get_major_formatter().set_useOffset(False)\n",
    "plt.show()"
   ]
  },
  {
   "cell_type": "markdown",
   "metadata": {},
   "source": [
    "Above graph description: Number of free apps outperformed number of grossing and paid apps."
   ]
  },
  {
   "cell_type": "code",
   "execution_count": null,
   "metadata": {},
   "outputs": [],
   "source": [
    "#Distribution of screenshot\n",
    "ax = df['num_screenshot'].value_counts().plot(kind='bar',\n",
    "                                    figsize=(14,8),\n",
    "                                    title=\"Distribution of screenshots\",\n",
    "                                    rot=0)\n",
    "ax.set_xlabel(\"Screenshots\")\n",
    "ax.set_ylabel(\"Count\")\n",
    "ax.yaxis.get_major_formatter().set_scientific(False)\n",
    "ax.yaxis.get_major_formatter().set_useOffset(False)\n",
    "plt.show()"
   ]
  },
  {
   "cell_type": "markdown",
   "metadata": {},
   "source": [
    "Above graph description: Number of screenshots tend to be 5 or 10 per app"
   ]
  },
  {
   "cell_type": "code",
   "execution_count": null,
   "metadata": {},
   "outputs": [],
   "source": [
    "#Distribution of average rating\n",
    "ax = df['average_rating'].value_counts().plot(kind='bar',\n",
    "                                    figsize=(14,8),\n",
    "                                    title=\"Distribution of average rating\",\n",
    "                                    rot=0)\n",
    "ax.set_xlabel(\"App Type\")\n",
    "ax.set_ylabel(\"Count\")\n",
    "ax.yaxis.get_major_formatter().set_scientific(False)\n",
    "ax.yaxis.get_major_formatter().set_useOffset(False)\n",
    "plt.show()"
   ]
  },
  {
   "cell_type": "markdown",
   "metadata": {},
   "source": [
    "Above graph description: Average rating tends to fall from the 4.0 to 5.0 range"
   ]
  },
  {
   "cell_type": "markdown",
   "metadata": {},
   "source": [
    "Based on the insights from the graph, the ratings are skewed towards 4-5 bucket. This probably could be a\n",
    "bias in our data or perhaps we are missing the reviews of a lot of people who might have rated in bucket 2-4.\n",
    "Hence we want to create a new metric which will provide more balanced understanding of the data"
   ]
  },
  {
   "cell_type": "markdown",
   "metadata": {},
   "source": [
    "## Success Metrics"
   ]
  },
  {
   "cell_type": "markdown",
   "metadata": {},
   "source": [
    "Weighted Average: We used the Bayesian Average formula to determine an adjusted rating metric. The\n",
    "Bayesian average adjusts the average rating of products whose rating counts fall below a threshold."
   ]
  },
  {
   "attachments": {
    "Screen%20Shot%202022-03-08%20at%208.58.24%20AM.png": {
     "image/png": "[encoded data removed]"
    }
   },
   "cell_type": "markdown",
   "metadata": {},
   "source": [
    "![Screen%20Shot%202022-03-08%20at%208.58.24%20AM.png](attachment:Screen%20Shot%202022-03-08%20at%208.58.24%20AM.png)"
   ]
  },
  {
   "cell_type": "markdown",
   "metadata": {},
   "source": [
    "C = The 25th percentile rating count. This is the confidence number (threshold)"
   ]
  },
  {
   "cell_type": "code",
   "execution_count": 124,
   "metadata": {},
   "outputs": [],
   "source": [
    "c = df.rating_count.quantile(0.25)"
   ]
  },
  {
   "cell_type": "markdown",
   "metadata": {},
   "source": [
    "m = The arithmetic average rating of all the apps"
   ]
  },
  {
   "cell_type": "code",
   "execution_count": 125,
   "metadata": {},
   "outputs": [],
   "source": [
    "m = df.average_rating.mean()"
   ]
  },
  {
   "cell_type": "code",
   "execution_count": 130,
   "metadata": {},
   "outputs": [
    {
     "name": "stderr",
     "output_type": "stream",
     "text": [
      "<ipython-input-130-3a10648d2678>:1: SettingWithCopyWarning: \n",
      "A value is trying to be set on a copy of a slice from a DataFrame.\n",
      "Try using .loc[row_indexer,col_indexer] = value instead\n",
      "\n",
      "See the caveats in the documentation: https://pandas.pydata.org/pandas-docs/stable/user_guide/indexing.html#returning-a-view-versus-a-copy\n",
      "  df['weighted'] = ((df['average_rating'] * df['rating_count']) + c * m)/(df['rating_count']+c)\n"
     ]
    }
   ],
   "source": [
    "df['weighted'] = ((df['average_rating'] * df['rating_count']) + c * m)/(df['rating_count']+c)"
   ]
  },
  {
   "cell_type": "code",
   "execution_count": null,
   "metadata": {},
   "outputs": [],
   "source": [
    "#Distribution of apps across categories\n",
    "ax = df['category'].value_counts().plot(kind='bar',\n",
    "                                    figsize=(14,8),\n",
    "                                    title=\"Distribution of apps across categories\",\n",
    "                                    rot=0)\n",
    "ax.set_xlabel(\"Category\")\n",
    "ax.set_ylabel(\"Count\")\n",
    "ax.yaxis.get_major_formatter().set_scientific(False)\n",
    "ax.yaxis.get_major_formatter().set_useOffset(False)\n",
    "plt.show()"
   ]
  },
  {
   "cell_type": "markdown",
   "metadata": {},
   "source": [
    "Above graph description: Most apps fall into the Games category"
   ]
  },
  {
   "cell_type": "markdown",
   "metadata": {},
   "source": [
    "## Execution and Output"
   ]
  },
  {
   "cell_type": "markdown",
   "metadata": {},
   "source": [
    "In order to provide our client with the best strategy for the mobile application market, we conduct  exploratory data analysis on the data crawled from major app stores, which includes features such as device type, app ranking, region, developer, rating count, category, and whether the apps have in-app advertisements or purchases. \n",
    "\n",
    "In order to measure the success of apps, we wanted to measure user-engagement (proxied by number of ratings) and quality of engagement (proxied by average rating). Currently, we have separate measures for both in our data, which intuitively demands a new success metric that combines the two. Hence, we added a new metric leveraging these features, the Bayesian Average Rating, to create a more reliable comparison between apps. This metric affects apps with low rating counts much more than those that have a higher rating, ensuring that apps with lower rating counts have less weight in the ranking\n",
    "\n",
    "Our analysis starts with exploring the Category variable. Among all categories, we saw that the Education category has the most potential due to a high Bayesian Average and a low number of total apps, which creates less competition."
   ]
  },
  {
   "cell_type": "markdown",
   "metadata": {},
   "source": [
    "When categorizing by region, we find that the US market is more viable for the client than the China market owing to the higher user engagement and lesser competitors."
   ]
  },
  {
   "cell_type": "markdown",
   "metadata": {},
   "source": [
    "Next, our team narrowed down our approach by analyzing the type of app store. Based on the data, Google Play would be the most profitable space to enter due to the established user base of applications and relatively small number of competitive developers."
   ]
  },
  {
   "cell_type": "markdown",
   "metadata": {},
   "source": [
    "Lastly, we want to determine which types of apps (free or paid) would be the best for our client. Within the Education category in Google Play, the user engagement of free apps is higher than that of paid apps while the Bayesian average rating of free apps is slightly lower than that of paid apps. We believe that clients can start with a free app and then move to in-app purchase afterwards. External research conducted by the Gartner Research Group shows that 24% of users are more likely to interact with in-app purchases over an upfront paid app, making this freemium model the ideal approach."
   ]
  },
  {
   "cell_type": "markdown",
   "metadata": {},
   "source": [
    "In addition, in order to effectively break into this market, the client should introduce an app with an average file size of approximately 29.3mb, along with seven screenshots as this is the general trend in the market."
   ]
  },
  {
   "cell_type": "markdown",
   "metadata": {},
   "source": [
    "## Implications and recommendations"
   ]
  },
  {
   "cell_type": "markdown",
   "metadata": {},
   "source": [
    "Based on the findings from the data, we can conclude that the ideal application in the current marketplace is\n",
    "a freemium educational application on the Google Play store. In addition, our client should primarily focus\n",
    "on the US market as the entry point for their participation in the mobile application market. Selecting these\n",
    "key areas will help ensure that the client’s application enters the marketplace in an advantageous position,\n",
    "ensuring that they will be a visible competitor for their area and gradually gain a dedicated customer base\n",
    "within the category.\n",
    "\n",
    "We recommend that our client should gather additional information regarding Educational apps to determine\n",
    "the optimal content for their prospective audience. Combined with our preliminary analysis, the strategy will\n",
    "ensure a successful launch of the new application"
   ]
  }
 ],
 "metadata": {
  "kernelspec": {
   "display_name": "Python 3",
   "language": "python",
   "name": "python3"
  },
  "language_info": {
   "codemirror_mode": {
    "name": "ipython",
    "version": 3
   },
   "file_extension": ".py",
   "mimetype": "text/x-python",
   "name": "python",
   "nbconvert_exporter": "python",
   "pygments_lexer": "ipython3",
   "version": "3.8.5"
  }
 },
 "nbformat": 4,
 "nbformat_minor": 5
}
